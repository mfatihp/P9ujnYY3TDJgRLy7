{
  "nbformat": 4,
  "nbformat_minor": 0,
  "metadata": {
    "language_info": {
      "codemirror_mode": {
        "name": "ipython",
        "version": 3
      },
      "file_extension": ".py",
      "mimetype": "text/x-python",
      "name": "python",
      "nbconvert_exporter": "python",
      "pygments_lexer": "ipython3",
      "version": "3.8.3-final"
    },
    "orig_nbformat": 2,
    "kernelspec": {
      "name": "Python 3.8.3 64-bit ('base': conda)",
      "display_name": "Python 3.8.3 64-bit ('base': conda)",
      "metadata": {
        "interpreter": {
          "hash": "c4764ace66287c1afd7a513d8b34e3bccb1417c21ccdd6cfcecaa872bb422e86"
        }
      }
    },
    "colab": {
      "name": "term-deposit.ipynb",
      "provenance": [],
      "collapsed_sections": [],
      "toc_visible": true,
      "include_colab_link": true
    }
  },
  "cells": [
    {
      "cell_type": "markdown",
      "metadata": {
        "id": "view-in-github",
        "colab_type": "text"
      },
      "source": [
        "<a href=\"https://colab.research.google.com/github/mfatihp/MJpWLSp1Ug48DlJR/blob/main/term_deposit.ipynb\" target=\"_parent\"><img src=\"https://colab.research.google.com/assets/colab-badge.svg\" alt=\"Open In Colab\"/></a>"
      ]
    },
    {
      "cell_type": "markdown",
      "metadata": {
        "id": "PHg9cpuyK-zY"
      },
      "source": [
        "# ***Term-Deposit Classification***\n",
        "\n",
        "Author : Muhammet Fatih POLAT"
      ]
    },
    {
      "cell_type": "code",
      "metadata": {
        "id": "xYPH9j-Zn8pU"
      },
      "source": [
        "import pandas as pd\n",
        "import numpy as np\n",
        "import matplotlib.pyplot as plt"
      ],
      "execution_count": 4,
      "outputs": []
    },
    {
      "cell_type": "code",
      "metadata": {
        "id": "X9_rvKGLn8pZ",
        "outputId": "d15e1bce-a97e-4f3b-dd84-88324676ce9a",
        "colab": {
          "base_uri": "https://localhost:8080/",
          "height": 204
        }
      },
      "source": [
        "# Read data\n",
        "data = pd.read_csv(\"term-deposit-marketing-2020.csv\")\n",
        "data.head()"
      ],
      "execution_count": 5,
      "outputs": [
        {
          "output_type": "execute_result",
          "data": {
            "text/html": [
              "<div>\n",
              "<style scoped>\n",
              "    .dataframe tbody tr th:only-of-type {\n",
              "        vertical-align: middle;\n",
              "    }\n",
              "\n",
              "    .dataframe tbody tr th {\n",
              "        vertical-align: top;\n",
              "    }\n",
              "\n",
              "    .dataframe thead th {\n",
              "        text-align: right;\n",
              "    }\n",
              "</style>\n",
              "<table border=\"1\" class=\"dataframe\">\n",
              "  <thead>\n",
              "    <tr style=\"text-align: right;\">\n",
              "      <th></th>\n",
              "      <th>age</th>\n",
              "      <th>job</th>\n",
              "      <th>marital</th>\n",
              "      <th>education</th>\n",
              "      <th>default</th>\n",
              "      <th>balance</th>\n",
              "      <th>housing</th>\n",
              "      <th>loan</th>\n",
              "      <th>contact</th>\n",
              "      <th>day</th>\n",
              "      <th>month</th>\n",
              "      <th>duration</th>\n",
              "      <th>campaign</th>\n",
              "      <th>y</th>\n",
              "    </tr>\n",
              "  </thead>\n",
              "  <tbody>\n",
              "    <tr>\n",
              "      <th>0</th>\n",
              "      <td>58</td>\n",
              "      <td>management</td>\n",
              "      <td>married</td>\n",
              "      <td>tertiary</td>\n",
              "      <td>no</td>\n",
              "      <td>2143</td>\n",
              "      <td>yes</td>\n",
              "      <td>no</td>\n",
              "      <td>unknown</td>\n",
              "      <td>5</td>\n",
              "      <td>may</td>\n",
              "      <td>261</td>\n",
              "      <td>1</td>\n",
              "      <td>no</td>\n",
              "    </tr>\n",
              "    <tr>\n",
              "      <th>1</th>\n",
              "      <td>44</td>\n",
              "      <td>technician</td>\n",
              "      <td>single</td>\n",
              "      <td>secondary</td>\n",
              "      <td>no</td>\n",
              "      <td>29</td>\n",
              "      <td>yes</td>\n",
              "      <td>no</td>\n",
              "      <td>unknown</td>\n",
              "      <td>5</td>\n",
              "      <td>may</td>\n",
              "      <td>151</td>\n",
              "      <td>1</td>\n",
              "      <td>no</td>\n",
              "    </tr>\n",
              "    <tr>\n",
              "      <th>2</th>\n",
              "      <td>33</td>\n",
              "      <td>entrepreneur</td>\n",
              "      <td>married</td>\n",
              "      <td>secondary</td>\n",
              "      <td>no</td>\n",
              "      <td>2</td>\n",
              "      <td>yes</td>\n",
              "      <td>yes</td>\n",
              "      <td>unknown</td>\n",
              "      <td>5</td>\n",
              "      <td>may</td>\n",
              "      <td>76</td>\n",
              "      <td>1</td>\n",
              "      <td>no</td>\n",
              "    </tr>\n",
              "    <tr>\n",
              "      <th>3</th>\n",
              "      <td>47</td>\n",
              "      <td>blue-collar</td>\n",
              "      <td>married</td>\n",
              "      <td>unknown</td>\n",
              "      <td>no</td>\n",
              "      <td>1506</td>\n",
              "      <td>yes</td>\n",
              "      <td>no</td>\n",
              "      <td>unknown</td>\n",
              "      <td>5</td>\n",
              "      <td>may</td>\n",
              "      <td>92</td>\n",
              "      <td>1</td>\n",
              "      <td>no</td>\n",
              "    </tr>\n",
              "    <tr>\n",
              "      <th>4</th>\n",
              "      <td>33</td>\n",
              "      <td>unknown</td>\n",
              "      <td>single</td>\n",
              "      <td>unknown</td>\n",
              "      <td>no</td>\n",
              "      <td>1</td>\n",
              "      <td>no</td>\n",
              "      <td>no</td>\n",
              "      <td>unknown</td>\n",
              "      <td>5</td>\n",
              "      <td>may</td>\n",
              "      <td>198</td>\n",
              "      <td>1</td>\n",
              "      <td>no</td>\n",
              "    </tr>\n",
              "  </tbody>\n",
              "</table>\n",
              "</div>"
            ],
            "text/plain": [
              "   age           job  marital  education  ... month  duration campaign   y\n",
              "0   58    management  married   tertiary  ...   may       261        1  no\n",
              "1   44    technician   single  secondary  ...   may       151        1  no\n",
              "2   33  entrepreneur  married  secondary  ...   may        76        1  no\n",
              "3   47   blue-collar  married    unknown  ...   may        92        1  no\n",
              "4   33       unknown   single    unknown  ...   may       198        1  no\n",
              "\n",
              "[5 rows x 14 columns]"
            ]
          },
          "metadata": {
            "tags": []
          },
          "execution_count": 5
        }
      ]
    },
    {
      "cell_type": "code",
      "metadata": {
        "id": "XKDRXuvhn8pc",
        "outputId": "7152f955-c95a-4cf9-89b8-9bde78c42384",
        "colab": {
          "base_uri": "https://localhost:8080/",
          "height": 297
        }
      },
      "source": [
        "# Basic insights for numeric data\n",
        "data.describe()"
      ],
      "execution_count": null,
      "outputs": [
        {
          "output_type": "execute_result",
          "data": {
            "text/html": [
              "<div>\n",
              "<style scoped>\n",
              "    .dataframe tbody tr th:only-of-type {\n",
              "        vertical-align: middle;\n",
              "    }\n",
              "\n",
              "    .dataframe tbody tr th {\n",
              "        vertical-align: top;\n",
              "    }\n",
              "\n",
              "    .dataframe thead th {\n",
              "        text-align: right;\n",
              "    }\n",
              "</style>\n",
              "<table border=\"1\" class=\"dataframe\">\n",
              "  <thead>\n",
              "    <tr style=\"text-align: right;\">\n",
              "      <th></th>\n",
              "      <th>age</th>\n",
              "      <th>balance</th>\n",
              "      <th>day</th>\n",
              "      <th>duration</th>\n",
              "      <th>campaign</th>\n",
              "    </tr>\n",
              "  </thead>\n",
              "  <tbody>\n",
              "    <tr>\n",
              "      <th>count</th>\n",
              "      <td>40000.000000</td>\n",
              "      <td>40000.000000</td>\n",
              "      <td>40000.000000</td>\n",
              "      <td>40000.000000</td>\n",
              "      <td>40000.000000</td>\n",
              "    </tr>\n",
              "    <tr>\n",
              "      <th>mean</th>\n",
              "      <td>40.544600</td>\n",
              "      <td>1274.277550</td>\n",
              "      <td>16.017225</td>\n",
              "      <td>254.824300</td>\n",
              "      <td>2.882175</td>\n",
              "    </tr>\n",
              "    <tr>\n",
              "      <th>std</th>\n",
              "      <td>9.641776</td>\n",
              "      <td>2903.769716</td>\n",
              "      <td>8.278127</td>\n",
              "      <td>259.366498</td>\n",
              "      <td>3.239051</td>\n",
              "    </tr>\n",
              "    <tr>\n",
              "      <th>min</th>\n",
              "      <td>19.000000</td>\n",
              "      <td>-8019.000000</td>\n",
              "      <td>1.000000</td>\n",
              "      <td>0.000000</td>\n",
              "      <td>1.000000</td>\n",
              "    </tr>\n",
              "    <tr>\n",
              "      <th>25%</th>\n",
              "      <td>33.000000</td>\n",
              "      <td>54.000000</td>\n",
              "      <td>8.000000</td>\n",
              "      <td>100.000000</td>\n",
              "      <td>1.000000</td>\n",
              "    </tr>\n",
              "    <tr>\n",
              "      <th>50%</th>\n",
              "      <td>39.000000</td>\n",
              "      <td>407.000000</td>\n",
              "      <td>17.000000</td>\n",
              "      <td>175.000000</td>\n",
              "      <td>2.000000</td>\n",
              "    </tr>\n",
              "    <tr>\n",
              "      <th>75%</th>\n",
              "      <td>48.000000</td>\n",
              "      <td>1319.000000</td>\n",
              "      <td>21.000000</td>\n",
              "      <td>313.000000</td>\n",
              "      <td>3.000000</td>\n",
              "    </tr>\n",
              "    <tr>\n",
              "      <th>max</th>\n",
              "      <td>95.000000</td>\n",
              "      <td>102127.000000</td>\n",
              "      <td>31.000000</td>\n",
              "      <td>4918.000000</td>\n",
              "      <td>63.000000</td>\n",
              "    </tr>\n",
              "  </tbody>\n",
              "</table>\n",
              "</div>"
            ],
            "text/plain": [
              "                age        balance           day      duration      campaign\n",
              "count  40000.000000   40000.000000  40000.000000  40000.000000  40000.000000\n",
              "mean      40.544600    1274.277550     16.017225    254.824300      2.882175\n",
              "std        9.641776    2903.769716      8.278127    259.366498      3.239051\n",
              "min       19.000000   -8019.000000      1.000000      0.000000      1.000000\n",
              "25%       33.000000      54.000000      8.000000    100.000000      1.000000\n",
              "50%       39.000000     407.000000     17.000000    175.000000      2.000000\n",
              "75%       48.000000    1319.000000     21.000000    313.000000      3.000000\n",
              "max       95.000000  102127.000000     31.000000   4918.000000     63.000000"
            ]
          },
          "metadata": {
            "tags": []
          },
          "execution_count": 197
        }
      ]
    },
    {
      "cell_type": "code",
      "metadata": {
        "tags": [],
        "id": "v-zJcu8-n8ph",
        "outputId": "c876b155-0997-42f1-b1fa-9dbc651ab01c",
        "colab": {
          "base_uri": "https://localhost:8080/",
          "height": 374
        }
      },
      "source": [
        "# Check datatypes and null values\n",
        "data.info()"
      ],
      "execution_count": null,
      "outputs": [
        {
          "output_type": "stream",
          "text": [
            "<class 'pandas.core.frame.DataFrame'>\n",
            "RangeIndex: 40000 entries, 0 to 39999\n",
            "Data columns (total 14 columns):\n",
            " #   Column     Non-Null Count  Dtype \n",
            "---  ------     --------------  ----- \n",
            " 0   age        40000 non-null  int64 \n",
            " 1   job        40000 non-null  object\n",
            " 2   marital    40000 non-null  object\n",
            " 3   education  40000 non-null  object\n",
            " 4   default    40000 non-null  object\n",
            " 5   balance    40000 non-null  int64 \n",
            " 6   housing    40000 non-null  object\n",
            " 7   loan       40000 non-null  object\n",
            " 8   contact    40000 non-null  object\n",
            " 9   day        40000 non-null  int64 \n",
            " 10  month      40000 non-null  object\n",
            " 11  duration   40000 non-null  int64 \n",
            " 12  campaign   40000 non-null  int64 \n",
            " 13  y          40000 non-null  object\n",
            "dtypes: int64(5), object(9)\n",
            "memory usage: 4.3+ MB\n"
          ],
          "name": "stdout"
        }
      ]
    },
    {
      "cell_type": "code",
      "metadata": {
        "id": "A4qzQq5Cn8pm",
        "outputId": "743025cc-a82d-4eaf-fb58-8f37382cde8d",
        "colab": {
          "base_uri": "https://localhost:8080/",
          "height": 272
        }
      },
      "source": [
        "# Unique values for each column\n",
        "data.nunique()"
      ],
      "execution_count": null,
      "outputs": [
        {
          "output_type": "execute_result",
          "data": {
            "text/plain": [
              "age            70\n",
              "job            12\n",
              "marital         3\n",
              "education       4\n",
              "default         2\n",
              "balance      6849\n",
              "housing         2\n",
              "loan            2\n",
              "contact         3\n",
              "day            31\n",
              "month          11\n",
              "duration     1535\n",
              "campaign       48\n",
              "y               2\n",
              "dtype: int64"
            ]
          },
          "metadata": {
            "tags": []
          },
          "execution_count": 199
        }
      ]
    },
    {
      "cell_type": "code",
      "metadata": {
        "id": "osn76YITn8ps"
      },
      "source": [
        "# Change label datas: 'yes' = 1 | 'no' = 0\n",
        "data.y.loc[data['y'] == 'no'] = 0\n",
        "data.y.loc[data['y'] == 'yes'] = 1"
      ],
      "execution_count": null,
      "outputs": []
    },
    {
      "cell_type": "code",
      "metadata": {
        "id": "nAQuOGEdn8px",
        "outputId": "373aa75f-ed04-4161-9d41-a8b0fb6db902",
        "colab": {
          "base_uri": "https://localhost:8080/",
          "height": 204
        }
      },
      "source": [
        "data.head()"
      ],
      "execution_count": null,
      "outputs": [
        {
          "output_type": "execute_result",
          "data": {
            "text/html": [
              "<div>\n",
              "<style scoped>\n",
              "    .dataframe tbody tr th:only-of-type {\n",
              "        vertical-align: middle;\n",
              "    }\n",
              "\n",
              "    .dataframe tbody tr th {\n",
              "        vertical-align: top;\n",
              "    }\n",
              "\n",
              "    .dataframe thead th {\n",
              "        text-align: right;\n",
              "    }\n",
              "</style>\n",
              "<table border=\"1\" class=\"dataframe\">\n",
              "  <thead>\n",
              "    <tr style=\"text-align: right;\">\n",
              "      <th></th>\n",
              "      <th>age</th>\n",
              "      <th>job</th>\n",
              "      <th>marital</th>\n",
              "      <th>education</th>\n",
              "      <th>default</th>\n",
              "      <th>balance</th>\n",
              "      <th>housing</th>\n",
              "      <th>loan</th>\n",
              "      <th>contact</th>\n",
              "      <th>day</th>\n",
              "      <th>month</th>\n",
              "      <th>duration</th>\n",
              "      <th>campaign</th>\n",
              "      <th>y</th>\n",
              "    </tr>\n",
              "  </thead>\n",
              "  <tbody>\n",
              "    <tr>\n",
              "      <th>0</th>\n",
              "      <td>58</td>\n",
              "      <td>management</td>\n",
              "      <td>married</td>\n",
              "      <td>tertiary</td>\n",
              "      <td>no</td>\n",
              "      <td>2143</td>\n",
              "      <td>yes</td>\n",
              "      <td>no</td>\n",
              "      <td>unknown</td>\n",
              "      <td>5</td>\n",
              "      <td>may</td>\n",
              "      <td>261</td>\n",
              "      <td>1</td>\n",
              "      <td>0</td>\n",
              "    </tr>\n",
              "    <tr>\n",
              "      <th>1</th>\n",
              "      <td>44</td>\n",
              "      <td>technician</td>\n",
              "      <td>single</td>\n",
              "      <td>secondary</td>\n",
              "      <td>no</td>\n",
              "      <td>29</td>\n",
              "      <td>yes</td>\n",
              "      <td>no</td>\n",
              "      <td>unknown</td>\n",
              "      <td>5</td>\n",
              "      <td>may</td>\n",
              "      <td>151</td>\n",
              "      <td>1</td>\n",
              "      <td>0</td>\n",
              "    </tr>\n",
              "    <tr>\n",
              "      <th>2</th>\n",
              "      <td>33</td>\n",
              "      <td>entrepreneur</td>\n",
              "      <td>married</td>\n",
              "      <td>secondary</td>\n",
              "      <td>no</td>\n",
              "      <td>2</td>\n",
              "      <td>yes</td>\n",
              "      <td>yes</td>\n",
              "      <td>unknown</td>\n",
              "      <td>5</td>\n",
              "      <td>may</td>\n",
              "      <td>76</td>\n",
              "      <td>1</td>\n",
              "      <td>0</td>\n",
              "    </tr>\n",
              "    <tr>\n",
              "      <th>3</th>\n",
              "      <td>47</td>\n",
              "      <td>blue-collar</td>\n",
              "      <td>married</td>\n",
              "      <td>unknown</td>\n",
              "      <td>no</td>\n",
              "      <td>1506</td>\n",
              "      <td>yes</td>\n",
              "      <td>no</td>\n",
              "      <td>unknown</td>\n",
              "      <td>5</td>\n",
              "      <td>may</td>\n",
              "      <td>92</td>\n",
              "      <td>1</td>\n",
              "      <td>0</td>\n",
              "    </tr>\n",
              "    <tr>\n",
              "      <th>4</th>\n",
              "      <td>33</td>\n",
              "      <td>unknown</td>\n",
              "      <td>single</td>\n",
              "      <td>unknown</td>\n",
              "      <td>no</td>\n",
              "      <td>1</td>\n",
              "      <td>no</td>\n",
              "      <td>no</td>\n",
              "      <td>unknown</td>\n",
              "      <td>5</td>\n",
              "      <td>may</td>\n",
              "      <td>198</td>\n",
              "      <td>1</td>\n",
              "      <td>0</td>\n",
              "    </tr>\n",
              "  </tbody>\n",
              "</table>\n",
              "</div>"
            ],
            "text/plain": [
              "   age           job  marital  education  ... month  duration campaign  y\n",
              "0   58    management  married   tertiary  ...   may       261        1  0\n",
              "1   44    technician   single  secondary  ...   may       151        1  0\n",
              "2   33  entrepreneur  married  secondary  ...   may        76        1  0\n",
              "3   47   blue-collar  married    unknown  ...   may        92        1  0\n",
              "4   33       unknown   single    unknown  ...   may       198        1  0\n",
              "\n",
              "[5 rows x 14 columns]"
            ]
          },
          "metadata": {
            "tags": []
          },
          "execution_count": 201
        }
      ]
    },
    {
      "cell_type": "code",
      "metadata": {
        "tags": [],
        "id": "nZRJLle_n8p0",
        "outputId": "fb9a5df7-b4b2-4253-81e7-aa8d62da879d",
        "colab": {
          "base_uri": "https://localhost:8080/",
          "height": 204
        }
      },
      "source": [
        "# Mean and Standard Deviation of age for each label value\n",
        "avg_age = data.groupby('y')['age'].mean()\n",
        "stdev_age = data.groupby('y')['age'].std()\n",
        "\n",
        "print(\"Age\")\n",
        "print(\"=\"*50)\n",
        "print(f\"Mean of Age (0): {avg_age[0]}\")\n",
        "print(f\"Mean of Age (1): {avg_age[1]}\")\n",
        "print(\"\\n\")\n",
        "print(f\"Stdev of Age (0): {stdev_age[0]}\")\n",
        "print(f\"Stdev of Age (1): {stdev_age[1]}\")\n",
        "print(\"-\"*50)\n",
        "print(\"\\n\")"
      ],
      "execution_count": null,
      "outputs": [
        {
          "output_type": "stream",
          "text": [
            "Age\n",
            "==================================================\n",
            "Mean of Age (0): 40.59920763260026\n",
            "Mean of Age (1): 39.84495856353591\n",
            "\n",
            "\n",
            "Stdev of Age (0): 9.525449829310007\n",
            "Stdev of Age (1): 11.001984220396205\n",
            "--------------------------------------------------\n",
            "\n",
            "\n"
          ],
          "name": "stdout"
        }
      ]
    },
    {
      "cell_type": "code",
      "metadata": {
        "tags": [],
        "id": "xvwocNrLn8p3",
        "outputId": "7f109b71-4203-4fca-81dc-828058641ed8",
        "colab": {
          "base_uri": "https://localhost:8080/",
          "height": 204
        }
      },
      "source": [
        "# Mean and Standard Deviation of balance for each label value\n",
        "avg_bal = data.groupby('y')['balance'].mean()\n",
        "stdev_bal = data.groupby('y')['balance'].std()\n",
        "\n",
        "print(\"Balance\")\n",
        "print(\"=\"*50)\n",
        "print(f\"Mean of Balance (0): {avg_bal[0]}\")\n",
        "print(f\"Mean of Balance (1): {avg_bal[1]}\")\n",
        "print(\"\\n\")\n",
        "print(f\"Stdev of Balance (0): {stdev_bal[0]}\")\n",
        "print(f\"Stdev of Balance (1): {stdev_bal[1]}\")\n",
        "print(\"-\"*50)\n",
        "print(\"\\n\")"
      ],
      "execution_count": null,
      "outputs": [
        {
          "output_type": "stream",
          "text": [
            "Balance\n",
            "==================================================\n",
            "Mean of Balance (0): 1249.7525334195775\n",
            "Mean of Balance (1): 1588.495856353591\n",
            "\n",
            "\n",
            "Stdev of Balance (0): 2900.7224359550637\n",
            "Stdev of Balance (1): 2924.8944293984614\n",
            "--------------------------------------------------\n",
            "\n",
            "\n"
          ],
          "name": "stdout"
        }
      ]
    },
    {
      "cell_type": "code",
      "metadata": {
        "tags": [],
        "id": "N-QqeCUJn8p7",
        "outputId": "b47ee1c3-7964-4e56-fe34-a0c40be62c9d",
        "colab": {
          "base_uri": "https://localhost:8080/",
          "height": 204
        }
      },
      "source": [
        "# Mean and Standard Deviation of duration for each label value\n",
        "avg_dur = data.groupby('y')['duration'].mean()\n",
        "stdev_dur = data.groupby('y')['duration'].std()\n",
        "\n",
        "print(\"Duration\")\n",
        "print(\"=\"*50)\n",
        "print(f\"Mean of Duration (0): {avg_dur[0]}\")\n",
        "print(f\"Mean of Duration (1): {avg_dur[1]}\")\n",
        "print(\"\\n\")\n",
        "print(f\"Stdev of Duration (0): {stdev_dur[0]}\")\n",
        "print(f\"Stdev of Duration (1): {stdev_dur[1]}\")\n",
        "print(\"-\"*50)\n",
        "print(\"\\n\")"
      ],
      "execution_count": null,
      "outputs": [
        {
          "output_type": "stream",
          "text": [
            "Duration\n",
            "==================================================\n",
            "Mean of Duration (0): 221.40804225959465\n",
            "Mean of Duration (1): 682.9585635359116\n",
            "\n",
            "\n",
            "Stdev of Duration (0): 206.36002225089965\n",
            "Stdev of Duration (1): 431.28717377369435\n",
            "--------------------------------------------------\n",
            "\n",
            "\n"
          ],
          "name": "stdout"
        }
      ]
    },
    {
      "cell_type": "code",
      "metadata": {
        "tags": [],
        "id": "sAJIh-s4n8p-",
        "outputId": "78b5d01f-fd93-4b04-bd57-5bf92280e970",
        "colab": {
          "base_uri": "https://localhost:8080/",
          "height": 204
        }
      },
      "source": [
        "# Mean and Standard Deviation of campaign for each label value\n",
        "avg_cam = data.groupby('y')['campaign'].mean()\n",
        "stdev_cam = data.groupby('y')['campaign'].std()\n",
        "\n",
        "print(\"Campaign\")\n",
        "print(\"=\"*50)\n",
        "print(f\"Mean of Campaign (0): {avg_cam[0]}\")\n",
        "print(f\"Mean of Campaign (1): {avg_cam[1]}\")\n",
        "print(\"\\n\")\n",
        "print(f\"Stdev of Campaign (0): {stdev_cam[0]}\")\n",
        "print(f\"Stdev of Campaign (1): {stdev_cam[1]}\")\n",
        "print(\"-\"*50)\n",
        "print(\"\\n\")"
      ],
      "execution_count": null,
      "outputs": [
        {
          "output_type": "stream",
          "text": [
            "Campaign\n",
            "==================================================\n",
            "Mean of Campaign (0): 2.91868801207417\n",
            "Mean of Campaign (1): 2.414364640883978\n",
            "\n",
            "\n",
            "Stdev of Campaign (0): 3.2980311479638744\n",
            "Stdev of Campaign (1): 2.3060154444475893\n",
            "--------------------------------------------------\n",
            "\n",
            "\n"
          ],
          "name": "stdout"
        }
      ]
    },
    {
      "cell_type": "code",
      "metadata": {
        "id": "VWQFYcuzn8qB",
        "outputId": "cdc176e4-3dce-4793-9e85-80e5de4df730",
        "colab": {
          "base_uri": "https://localhost:8080/",
          "height": 513
        }
      },
      "source": [
        "# Histogram of Age\n",
        "f = plt.figure(figsize=(15,8))\n",
        "ax1 = f.add_subplot(121)\n",
        "ax1.hist(data[data.y == 0]['age'])\n",
        "ax1.set_title('y = 0')\n",
        "ax1.set_xlabel('Age')\n",
        "ax1.set_ylabel('Count')\n",
        "\n",
        "ax2 = f.add_subplot(122)\n",
        "ax2.hist(data[data.y == 1]['age'])\n",
        "ax2.set_title('y = 1')\n",
        "ax2.set_xlabel('Age')\n",
        "ax2.set_ylabel('Count')\n",
        "\n",
        "plt.show()"
      ],
      "execution_count": null,
      "outputs": [
        {
          "output_type": "display_data",
          "data": {
            "image/png": "[encoded data removed]",
            "text/plain": [
              "<Figure size 1080x576 with 2 Axes>"
            ]
          },
          "metadata": {
            "tags": [],
            "needs_background": "light"
          }
        }
      ]
    },
    {
      "cell_type": "code",
      "metadata": {
        "id": "yss0ih1xn8qE",
        "outputId": "a04db98b-4221-4688-d44d-10233734fbfd",
        "colab": {
          "base_uri": "https://localhost:8080/",
          "height": 513
        }
      },
      "source": [
        "# Histogram of Balance\n",
        "f = plt.figure(figsize=(15,8))\n",
        "ax1 = f.add_subplot(121)\n",
        "ax1.hist(data[data.y == 0]['balance'])\n",
        "ax1.set_title('y = 0')\n",
        "ax1.set_xlabel('Balance')\n",
        "ax1.set_ylabel('Count')\n",
        "\n",
        "ax2 = f.add_subplot(122)\n",
        "ax2.hist(data[data.y == 1]['balance'])\n",
        "ax2.set_title('y = 1')\n",
        "ax2.set_xlim((-5000, 100000))\n",
        "ax2.set_xlabel('Balance')\n",
        "ax2.set_ylabel('Count')\n",
        "\n",
        "plt.show()"
      ],
      "execution_count": null,
      "outputs": [
        {
          "output_type": "display_data",
          "data": {
            "image/png": "[encoded data removed]",
            "text/plain": [
              "<Figure size 1080x576 with 2 Axes>"
            ]
          },
          "metadata": {
            "tags": [],
            "needs_background": "light"
          }
        }
      ]
    },
    {
      "cell_type": "code",
      "metadata": {
        "id": "-bgxDML4n8qH",
        "outputId": "5506b0ac-d6b1-4797-b644-cc9259680734",
        "colab": {
          "base_uri": "https://localhost:8080/",
          "height": 513
        }
      },
      "source": [
        "# Histogram of Duration\n",
        "f = plt.figure(figsize=(15,8))\n",
        "ax1 = f.add_subplot(121)\n",
        "ax1.hist(data[data.y == 0]['duration'])\n",
        "ax1.set_title('y = 0')\n",
        "ax1.set_xlabel('Duration')\n",
        "ax1.set_ylabel('Count')\n",
        "\n",
        "ax2 = f.add_subplot(122)\n",
        "ax2.hist(data[data.y == 1]['duration'])\n",
        "ax2.set_title('y = 1')\n",
        "ax2.set_xlim((-250, 5100))\n",
        "ax2.set_xlabel('Duration')\n",
        "ax2.set_ylabel('Count')\n",
        "\n",
        "plt.show()"
      ],
      "execution_count": null,
      "outputs": [
        {
          "output_type": "display_data",
          "data": {
            "image/png": "[encoded data removed]",
            "text/plain": [
              "<Figure size 1080x576 with 2 Axes>"
            ]
          },
          "metadata": {
            "tags": [],
            "needs_background": "light"
          }
        }
      ]
    },
    {
      "cell_type": "code",
      "metadata": {
        "id": "GZ20C8CEn8qK",
        "outputId": "7eeda83f-2a98-47cd-8552-fa835ef62ff3",
        "colab": {
          "base_uri": "https://localhost:8080/",
          "height": 513
        }
      },
      "source": [
        "# Histogram of Campaign\n",
        "f = plt.figure(figsize=(15,8))\n",
        "ax1 = f.add_subplot(121)\n",
        "ax1.hist(data[data.y == 0]['campaign'])\n",
        "ax1.set_title('y = 0')\n",
        "ax1.set_xlabel('Campaign')\n",
        "ax1.set_ylabel('Count')\n",
        "\n",
        "ax2 = f.add_subplot(122)\n",
        "ax2.hist(data[data.y == 1]['campaign'])\n",
        "ax2.set_title('y = 1')\n",
        "ax2.set_xlim((0, 65))\n",
        "ax2.set_xlabel('Campaign')\n",
        "ax2.set_ylabel('Count')\n",
        "\n",
        "plt.show()"
      ],
      "execution_count": null,
      "outputs": [
        {
          "output_type": "display_data",
          "data": {
            "image/png": "[encoded data removed]",
            "text/plain": [
              "<Figure size 1080x576 with 2 Axes>"
            ]
          },
          "metadata": {
            "tags": [],
            "needs_background": "light"
          }
        }
      ]
    },
    {
      "cell_type": "code",
      "metadata": {
        "tags": [],
        "id": "k9wayDs1n8qN",
        "outputId": "c3a65b5f-30d7-4893-c76e-eb0f2b0d0819",
        "colab": {
          "base_uri": "https://localhost:8080/",
          "height": 272
        }
      },
      "source": [
        "# Crosstab for categorical features\n",
        "# Keep\n",
        "data_crosstab = pd.crosstab(data['job'], data['y'], margins=True)\n",
        "data_crosstab['rate %'] = data_crosstab[1] / data_crosstab['All'] * 100\n",
        "print(data_crosstab)"
      ],
      "execution_count": null,
      "outputs": [
        {
          "output_type": "stream",
          "text": [
            "y                  0     1    All     rate %\n",
            "job                                         \n",
            "admin           4132   351   4483   7.829578\n",
            "blue-collar     8848   535   9383   5.701801\n",
            "entrepreneur    1317    88   1405   6.263345\n",
            "housemaid       1034    53   1087   4.875805\n",
            "management      7490   676   8166   8.278227\n",
            "retired         1286   151   1437  10.508003\n",
            "self-employed   1302   112   1414   7.920792\n",
            "services        3672   238   3910   6.086957\n",
            "student          442    82    524  15.648855\n",
            "technician      6355   497   6852   7.253357\n",
            "unemployed      1008    96   1104   8.695652\n",
            "unknown          218    17    235   7.234043\n",
            "All            37104  2896  40000   7.240000\n"
          ],
          "name": "stdout"
        }
      ]
    },
    {
      "cell_type": "code",
      "metadata": {
        "tags": [],
        "id": "bzcxFEcGn8qQ",
        "outputId": "64f2c03d-e579-4864-c27d-2a51bd5ce41f",
        "colab": {
          "base_uri": "https://localhost:8080/",
          "height": 119
        }
      },
      "source": [
        "# Divorced + Single = not-married\n",
        "# Keep\n",
        "data_crosstab = pd.crosstab(data['marital'], data['y'], margins=True)\n",
        "data_crosstab['rate %'] = data_crosstab[1] / data_crosstab['All'] * 100\n",
        "print(data_crosstab)"
      ],
      "execution_count": null,
      "outputs": [
        {
          "output_type": "stream",
          "text": [
            "y             0     1    All    rate %\n",
            "marital                               \n",
            "divorced   4334   391   4725  8.275132\n",
            "married   22908  1478  24386  6.060855\n",
            "single     9862  1027  10889  9.431536\n",
            "All       37104  2896  40000  7.240000\n"
          ],
          "name": "stdout"
        }
      ]
    },
    {
      "cell_type": "code",
      "metadata": {
        "id": "EElFCCWBY1s6",
        "outputId": "161f5649-d5d2-4db9-ef1f-df4649303fe7",
        "colab": {
          "base_uri": "https://localhost:8080/",
          "height": 34
        }
      },
      "source": [
        "singles = (data_crosstab[1][0] + data_crosstab[1][2])/(data_crosstab['All'][0] + data_crosstab['All'][2])*100\n",
        "print(f\"Rate of total singles : {singles}\")['job', 'education', 'housing', 'loan', 'month', 'marital']"
      ],
      "execution_count": null,
      "outputs": [
        {
          "output_type": "stream",
          "text": [
            "Rate of total singles : 9.081593441783015\n"
          ],
          "name": "stdout"
        }
      ]
    },
    {
      "cell_type": "code",
      "metadata": {
        "tags": [],
        "id": "wuvjUZ_xn8qU",
        "outputId": "1a71f410-3567-476e-946e-19f67579082d",
        "colab": {
          "base_uri": "https://localhost:8080/",
          "height": 136
        }
      },
      "source": [
        "# Keep\n",
        "data_crosstab = pd.crosstab(data['education'], data['y'], margins=True)\n",
        "data_crosstab['rate %'] = data_crosstab[1] / data_crosstab['All'] * 100\n",
        "print(data_crosstab)"
      ],
      "execution_count": null,
      "outputs": [
        {
          "output_type": "stream",
          "text": [
            "y              0     1    All    rate %\n",
            "education                              \n",
            "primary     5917   353   6270  5.629984\n",
            "secondary  19575  1418  20993  6.754632\n",
            "tertiary   10177  1029  11206  9.182581\n",
            "unknown     1435    96   1531  6.270411\n",
            "All        37104  2896  40000  7.240000\n"
          ],
          "name": "stdout"
        }
      ]
    },
    {
      "cell_type": "code",
      "metadata": {
        "tags": [],
        "id": "UM-oYwn_n8qZ",
        "outputId": "253c874f-19e3-4d1c-b2fd-9a4005735d9e",
        "colab": {
          "base_uri": "https://localhost:8080/",
          "height": 102
        }
      },
      "source": [
        "# Drop (diff < %2 and too few sample for 'yes')\n",
        "data_crosstab = pd.crosstab(data['default'], data['y'], margins=True)\n",
        "data_crosstab['rate %'] = data_crosstab[1] / data_crosstab['All'] * 100\n",
        "print(data_crosstab)"
      ],
      "execution_count": null,
      "outputs": [
        {
          "output_type": "stream",
          "text": [
            "y            0     1    All    rate %\n",
            "default                              \n",
            "no       36344  2847  39191  7.264423\n",
            "yes        760    49    809  6.056860\n",
            "All      37104  2896  40000  7.240000\n"
          ],
          "name": "stdout"
        }
      ]
    },
    {
      "cell_type": "code",
      "metadata": {
        "tags": [],
        "id": "pJx3p0zgn8qb",
        "outputId": "9357226c-86ee-439d-a26b-46919ca7310e",
        "colab": {
          "base_uri": "https://localhost:8080/",
          "height": 102
        }
      },
      "source": [
        "# Keep\n",
        "data_crosstab = pd.crosstab(data['housing'], data['y'], margins=True)\n",
        "data_crosstab['rate %'] = data_crosstab[1] / data_crosstab['All'] * 100\n",
        "print(data_crosstab)"
      ],
      "execution_count": null,
      "outputs": [
        {
          "output_type": "stream",
          "text": [
            "y            0     1    All    rate %\n",
            "housing                              \n",
            "no       14537  1432  15969  8.967374\n",
            "yes      22567  1464  24031  6.092131\n",
            "All      37104  2896  40000  7.240000\n"
          ],
          "name": "stdout"
        }
      ]
    },
    {
      "cell_type": "code",
      "metadata": {
        "tags": [],
        "id": "TfuhXWdGn8qe",
        "outputId": "4400742b-6305-4757-ff8b-d4af3d746938",
        "colab": {
          "base_uri": "https://localhost:8080/",
          "height": 102
        }
      },
      "source": [
        "# Keep\n",
        "data_crosstab = pd.crosstab(data['loan'], data['y'], margins=True)\n",
        "data_crosstab['rate %'] = data_crosstab[1] / data_crosstab['All'] * 100\n",
        "print(data_crosstab)"
      ],
      "execution_count": null,
      "outputs": [
        {
          "output_type": "stream",
          "text": [
            "y         0     1    All    rate %\n",
            "loan                              \n",
            "no    30554  2516  33070  7.608104\n",
            "yes    6550   380   6930  5.483405\n",
            "All   37104  2896  40000  7.240000\n"
          ],
          "name": "stdout"
        }
      ]
    },
    {
      "cell_type": "code",
      "metadata": {
        "tags": [],
        "id": "rx4SgQlln8qh",
        "outputId": "12f4a4de-1e82-48f7-9197-4794bfa961ac",
        "colab": {
          "base_uri": "https://localhost:8080/",
          "height": 119
        }
      },
      "source": [
        "# Drop (diff < %2)\n",
        "data_crosstab = pd.crosstab(data['contact'], data['y'], margins=True)\n",
        "data_crosstab['rate %'] = data_crosstab[1] / data_crosstab['All'] * 100\n",
        "print(data_crosstab)"
      ],
      "execution_count": null,
      "outputs": [
        {
          "output_type": "stream",
          "text": [
            "y              0     1    All    rate %\n",
            "contact                                \n",
            "cellular   22681  2233  24914  8.962832\n",
            "telephone   2155   166   2321  7.152090\n",
            "unknown    12268   497  12765  3.893459\n",
            "All        37104  2896  40000  7.240000\n"
          ],
          "name": "stdout"
        }
      ]
    },
    {
      "cell_type": "code",
      "metadata": {
        "tags": [],
        "id": "56m6kTPBn8qk",
        "outputId": "f19a7ef7-5037-4aad-9b71-0cacdeb61db7",
        "colab": {
          "base_uri": "https://localhost:8080/",
          "height": 255
        }
      },
      "source": [
        "# Keep\n",
        "data_crosstab = pd.crosstab(data['month'], data['y'], margins=True)\n",
        "data_crosstab['rate %'] = data_crosstab[1] / data_crosstab['All'] * 100\n",
        "print(data_crosstab)"
      ],
      "execution_count": null,
      "outputs": [
        {
          "output_type": "stream",
          "text": [
            "y          0     1    All     rate %\n",
            "month                               \n",
            "apr     2267   451   2718  16.593083\n",
            "aug     4927   288   5215   5.522531\n",
            "dec       12     1     13   7.692308\n",
            "feb     2041   255   2296  11.106272\n",
            "jan     1138    38   1176   3.231293\n",
            "jul     5996   384   6380   6.018809\n",
            "jun     4440   294   4734   6.210393\n",
            "mar      133   125    258  48.449612\n",
            "may    12741   791  13532   5.845403\n",
            "nov     3378   220   3598   6.114508\n",
            "oct       31    49     80  61.250000\n",
            "All    37104  2896  40000   7.240000\n"
          ],
          "name": "stdout"
        }
      ]
    },
    {
      "cell_type": "code",
      "metadata": {
        "tags": [],
        "id": "xiM35Umjn8qn",
        "outputId": "89641b0b-b502-4609-c221-a439210b4076",
        "colab": {
          "base_uri": "https://localhost:8080/",
          "height": 595
        }
      },
      "source": [
        "# Drop (Has not specific information)\n",
        "data_crosstab = pd.crosstab(data['day'], data['y'], margins=True)\n",
        "data_crosstab['rate %'] = data_crosstab[1] / data_crosstab['All'] * 100\n",
        "print(data_crosstab)"
      ],
      "execution_count": null,
      "outputs": [
        {
          "output_type": "stream",
          "text": [
            "y        0     1    All     rate %\n",
            "day                               \n",
            "1      136    40    176  22.727273\n",
            "2     1005   104   1109   9.377818\n",
            "3      794    80    874   9.153318\n",
            "4     1066   117   1183   9.890110\n",
            "5     1578   113   1691   6.682436\n",
            "6     1668   110   1778   6.186727\n",
            "7     1532    80   1612   4.962779\n",
            "8     1518   102   1620   6.296296\n",
            "9     1302    72   1374   5.240175\n",
            "10     319    45    364  12.362637\n",
            "11    1187    85   1272   6.682390\n",
            "12    1185   104   1289   8.068270\n",
            "13    1208   117   1325   8.830189\n",
            "14    1521   115   1636   7.029340\n",
            "15    1345   123   1468   8.378747\n",
            "16    1119    96   1215   7.901235\n",
            "17    1697   115   1812   6.346578\n",
            "18    2008   165   2173   7.593189\n",
            "19    1577    73   1650   4.424242\n",
            "20    2502   153   2655   5.762712\n",
            "21    1775   139   1914   7.262278\n",
            "22     693    80    773  10.349288\n",
            "23     764    59    823   7.168894\n",
            "24     320    32    352   9.090909\n",
            "25     623    72    695  10.359712\n",
            "26     834    61    895   6.815642\n",
            "27     890    84    974   8.624230\n",
            "28    1589    61   1650   3.696970\n",
            "29    1551    49   1600   3.062500\n",
            "30    1233   224   1457  15.374056\n",
            "31     565    26    591   4.399323\n",
            "All  37104  2896  40000   7.240000\n"
          ],
          "name": "stdout"
        }
      ]
    },
    {
      "cell_type": "code",
      "metadata": {
        "tags": [],
        "id": "2hUqlhWon8qq",
        "outputId": "090c48c2-08f5-4efe-a80e-ce77df648a2e",
        "colab": {
          "base_uri": "https://localhost:8080/",
          "height": 884
        }
      },
      "source": [
        "# Keep \n",
        "# Campaign is numeric type data, but must be checked\n",
        "data_crosstab = pd.crosstab(data['campaign'], data['y'], margins=True)\n",
        "data_crosstab['rate %'] = data_crosstab[1] / data_crosstab['All'] * 100\n",
        "print(data_crosstab)"
      ],
      "execution_count": null,
      "outputs": [
        {
          "output_type": "stream",
          "text": [
            "y             0     1    All     rate %\n",
            "campaign                               \n",
            "1         13454  1264  14718   8.588123\n",
            "2         10393   760  11153   6.814310\n",
            "3          4618   352   4970   7.082495\n",
            "4          3075   222   3297   6.733394\n",
            "5          1547    95   1642   5.785627\n",
            "6          1160    68   1228   5.537459\n",
            "7           664    35    699   5.007153\n",
            "8           501    25    526   4.752852\n",
            "9           299    19    318   5.974843\n",
            "10          250    12    262   4.580153\n",
            "11          184    13    197   6.598985\n",
            "12          150     4    154   2.597403\n",
            "13          125     6    131   4.580153\n",
            "14           89     4     93   4.301075\n",
            "15           79     4     83   4.819277\n",
            "16           76     2     78   2.564103\n",
            "17           63     6     69   8.695652\n",
            "18           51     0     51   0.000000\n",
            "19           44     0     44   0.000000\n",
            "20           42     1     43   2.325581\n",
            "21           34     1     35   2.857143\n",
            "22           23     0     23   0.000000\n",
            "23           22     0     22   0.000000\n",
            "24           19     1     20   5.000000\n",
            "25           22     0     22   0.000000\n",
            "26           13     0     13   0.000000\n",
            "27           10     0     10   0.000000\n",
            "28           16     0     16   0.000000\n",
            "29           15     1     16   6.250000\n",
            "30            8     0      8   0.000000\n",
            "31           12     0     12   0.000000\n",
            "32            8     1      9  11.111111\n",
            "33            6     0      6   0.000000\n",
            "34            5     0      5   0.000000\n",
            "35            4     0      4   0.000000\n",
            "36            4     0      4   0.000000\n",
            "37            2     0      2   0.000000\n",
            "38            3     0      3   0.000000\n",
            "39            1     0      1   0.000000\n",
            "41            2     0      2   0.000000\n",
            "43            3     0      3   0.000000\n",
            "44            1     0      1   0.000000\n",
            "46            1     0      1   0.000000\n",
            "50            2     0      2   0.000000\n",
            "51            1     0      1   0.000000\n",
            "55            1     0      1   0.000000\n",
            "58            1     0      1   0.000000\n",
            "63            1     0      1   0.000000\n",
            "All       37104  2896  40000   7.240000\n"
          ],
          "name": "stdout"
        }
      ]
    },
    {
      "cell_type": "markdown",
      "metadata": {
        "id": "7Cth080wYiOD"
      },
      "source": [
        "Columns that could be dropped : default, contact, day"
      ]
    },
    {
      "cell_type": "code",
      "metadata": {
        "id": "3Ddgte6tn8qs"
      },
      "source": [
        "# Drop selected columns\n",
        "temp = data.drop(columns=['default', 'contact', 'day'])"
      ],
      "execution_count": 30,
      "outputs": []
    },
    {
      "cell_type": "code",
      "metadata": {
        "id": "w53R0otDiUxR",
        "outputId": "e3a0813c-b319-4263-dc45-dad6cdfa88f3",
        "colab": {
          "base_uri": "https://localhost:8080/",
          "height": 204
        }
      },
      "source": [
        "y1_df = temp[temp['y'] == 1]\n",
        "y1_df = y1_df.drop('y', axis=1)\n",
        "y1_df.head()"
      ],
      "execution_count": 32,
      "outputs": [
        {
          "output_type": "execute_result",
          "data": {
            "text/html": [
              "<div>\n",
              "<style scoped>\n",
              "    .dataframe tbody tr th:only-of-type {\n",
              "        vertical-align: middle;\n",
              "    }\n",
              "\n",
              "    .dataframe tbody tr th {\n",
              "        vertical-align: top;\n",
              "    }\n",
              "\n",
              "    .dataframe thead th {\n",
              "        text-align: right;\n",
              "    }\n",
              "</style>\n",
              "<table border=\"1\" class=\"dataframe\">\n",
              "  <thead>\n",
              "    <tr style=\"text-align: right;\">\n",
              "      <th></th>\n",
              "      <th>age</th>\n",
              "      <th>job</th>\n",
              "      <th>marital</th>\n",
              "      <th>education</th>\n",
              "      <th>balance</th>\n",
              "      <th>housing</th>\n",
              "      <th>loan</th>\n",
              "      <th>month</th>\n",
              "      <th>duration</th>\n",
              "      <th>campaign</th>\n",
              "    </tr>\n",
              "  </thead>\n",
              "  <tbody>\n",
              "    <tr>\n",
              "      <th>83</th>\n",
              "      <td>59</td>\n",
              "      <td>admin</td>\n",
              "      <td>married</td>\n",
              "      <td>secondary</td>\n",
              "      <td>2343</td>\n",
              "      <td>yes</td>\n",
              "      <td>no</td>\n",
              "      <td>may</td>\n",
              "      <td>1042</td>\n",
              "      <td>1</td>\n",
              "    </tr>\n",
              "    <tr>\n",
              "      <th>86</th>\n",
              "      <td>56</td>\n",
              "      <td>admin</td>\n",
              "      <td>married</td>\n",
              "      <td>secondary</td>\n",
              "      <td>45</td>\n",
              "      <td>no</td>\n",
              "      <td>no</td>\n",
              "      <td>may</td>\n",
              "      <td>1467</td>\n",
              "      <td>1</td>\n",
              "    </tr>\n",
              "    <tr>\n",
              "      <th>87</th>\n",
              "      <td>41</td>\n",
              "      <td>technician</td>\n",
              "      <td>married</td>\n",
              "      <td>secondary</td>\n",
              "      <td>1270</td>\n",
              "      <td>yes</td>\n",
              "      <td>no</td>\n",
              "      <td>may</td>\n",
              "      <td>1389</td>\n",
              "      <td>1</td>\n",
              "    </tr>\n",
              "    <tr>\n",
              "      <th>129</th>\n",
              "      <td>55</td>\n",
              "      <td>services</td>\n",
              "      <td>married</td>\n",
              "      <td>secondary</td>\n",
              "      <td>2476</td>\n",
              "      <td>yes</td>\n",
              "      <td>no</td>\n",
              "      <td>may</td>\n",
              "      <td>579</td>\n",
              "      <td>1</td>\n",
              "    </tr>\n",
              "    <tr>\n",
              "      <th>168</th>\n",
              "      <td>54</td>\n",
              "      <td>admin</td>\n",
              "      <td>married</td>\n",
              "      <td>tertiary</td>\n",
              "      <td>184</td>\n",
              "      <td>no</td>\n",
              "      <td>no</td>\n",
              "      <td>may</td>\n",
              "      <td>673</td>\n",
              "      <td>2</td>\n",
              "    </tr>\n",
              "  </tbody>\n",
              "</table>\n",
              "</div>"
            ],
            "text/plain": [
              "     age         job  marital  education  ...  loan month duration campaign\n",
              "83    59       admin  married  secondary  ...    no   may     1042        1\n",
              "86    56       admin  married  secondary  ...    no   may     1467        1\n",
              "87    41  technician  married  secondary  ...    no   may     1389        1\n",
              "129   55    services  married  secondary  ...    no   may      579        1\n",
              "168   54       admin  married   tertiary  ...    no   may      673        2\n",
              "\n",
              "[5 rows x 10 columns]"
            ]
          },
          "metadata": {
            "tags": []
          },
          "execution_count": 32
        }
      ]
    },
    {
      "cell_type": "code",
      "metadata": {
        "id": "86z5UYRzijxY",
        "outputId": "6f6af83a-a621-4703-dec3-9905fd9fa854",
        "colab": {
          "base_uri": "https://localhost:8080/"
        }
      },
      "source": [
        "# Most frequent values of categorical features\n",
        "# Average of numeric features\n",
        "from scipy.stats import mode\n",
        "col = y1_df.columns\n",
        "vals = []\n",
        "\n",
        "for i in col:\n",
        "  if y1_df[i].dtype == 'object':\n",
        "    val = mode(y1_df[i])[0]\n",
        "  else:\n",
        "    val = np.mean(y1_df[i])\n",
        "  \n",
        "  vals.append(val)\n",
        "\n",
        "for j in range(len(vals)):\n",
        "  space = \" \"*(10-len(col[j]))\n",
        "  print(f\"{col[j]}{space} : {vals[j]}\")"
      ],
      "execution_count": 40,
      "outputs": [
        {
          "output_type": "stream",
          "text": [
            "age        : 39.84495856353591\n",
            "job        : ['management']\n",
            "marital    : ['married']\n",
            "education  : ['secondary']\n",
            "balance    : 1588.495856353591\n",
            "housing    : ['yes']\n",
            "loan       : ['no']\n",
            "month      : ['may']\n",
            "duration   : 682.9585635359116\n",
            "campaign   : 2.414364640883978\n"
          ],
          "name": "stdout"
        }
      ]
    },
    {
      "cell_type": "code",
      "metadata": {
        "id": "oDf_ziLoN401",
        "outputId": "2fec4359-fc72-41d2-db17-c434bf256b7b",
        "colab": {
          "base_uri": "https://localhost:8080/",
          "height": 204
        }
      },
      "source": [
        "temp.head()"
      ],
      "execution_count": 8,
      "outputs": [
        {
          "output_type": "execute_result",
          "data": {
            "text/html": [
              "<div>\n",
              "<style scoped>\n",
              "    .dataframe tbody tr th:only-of-type {\n",
              "        vertical-align: middle;\n",
              "    }\n",
              "\n",
              "    .dataframe tbody tr th {\n",
              "        vertical-align: top;\n",
              "    }\n",
              "\n",
              "    .dataframe thead th {\n",
              "        text-align: right;\n",
              "    }\n",
              "</style>\n",
              "<table border=\"1\" class=\"dataframe\">\n",
              "  <thead>\n",
              "    <tr style=\"text-align: right;\">\n",
              "      <th></th>\n",
              "      <th>age</th>\n",
              "      <th>job</th>\n",
              "      <th>marital</th>\n",
              "      <th>education</th>\n",
              "      <th>balance</th>\n",
              "      <th>housing</th>\n",
              "      <th>loan</th>\n",
              "      <th>month</th>\n",
              "      <th>duration</th>\n",
              "      <th>campaign</th>\n",
              "      <th>y</th>\n",
              "    </tr>\n",
              "  </thead>\n",
              "  <tbody>\n",
              "    <tr>\n",
              "      <th>0</th>\n",
              "      <td>58</td>\n",
              "      <td>management</td>\n",
              "      <td>married</td>\n",
              "      <td>tertiary</td>\n",
              "      <td>2143</td>\n",
              "      <td>yes</td>\n",
              "      <td>no</td>\n",
              "      <td>may</td>\n",
              "      <td>261</td>\n",
              "      <td>1</td>\n",
              "      <td>0</td>\n",
              "    </tr>\n",
              "    <tr>\n",
              "      <th>1</th>\n",
              "      <td>44</td>\n",
              "      <td>technician</td>\n",
              "      <td>single</td>\n",
              "      <td>secondary</td>\n",
              "      <td>29</td>\n",
              "      <td>yes</td>\n",
              "      <td>no</td>\n",
              "      <td>may</td>\n",
              "      <td>151</td>\n",
              "      <td>1</td>\n",
              "      <td>0</td>\n",
              "    </tr>\n",
              "    <tr>\n",
              "      <th>2</th>\n",
              "      <td>33</td>\n",
              "      <td>entrepreneur</td>\n",
              "      <td>married</td>\n",
              "      <td>secondary</td>\n",
              "      <td>2</td>\n",
              "      <td>yes</td>\n",
              "      <td>yes</td>\n",
              "      <td>may</td>\n",
              "      <td>76</td>\n",
              "      <td>1</td>\n",
              "      <td>0</td>\n",
              "    </tr>\n",
              "    <tr>\n",
              "      <th>3</th>\n",
              "      <td>47</td>\n",
              "      <td>blue-collar</td>\n",
              "      <td>married</td>\n",
              "      <td>unknown</td>\n",
              "      <td>1506</td>\n",
              "      <td>yes</td>\n",
              "      <td>no</td>\n",
              "      <td>may</td>\n",
              "      <td>92</td>\n",
              "      <td>1</td>\n",
              "      <td>0</td>\n",
              "    </tr>\n",
              "    <tr>\n",
              "      <th>4</th>\n",
              "      <td>33</td>\n",
              "      <td>unknown</td>\n",
              "      <td>single</td>\n",
              "      <td>unknown</td>\n",
              "      <td>1</td>\n",
              "      <td>no</td>\n",
              "      <td>no</td>\n",
              "      <td>may</td>\n",
              "      <td>198</td>\n",
              "      <td>1</td>\n",
              "      <td>0</td>\n",
              "    </tr>\n",
              "  </tbody>\n",
              "</table>\n",
              "</div>"
            ],
            "text/plain": [
              "   age           job  marital  education  ...  month duration campaign  y\n",
              "0   58    management  married   tertiary  ...    may      261        1  0\n",
              "1   44    technician   single  secondary  ...    may      151        1  0\n",
              "2   33  entrepreneur  married  secondary  ...    may       76        1  0\n",
              "3   47   blue-collar  married    unknown  ...    may       92        1  0\n",
              "4   33       unknown   single    unknown  ...    may      198        1  0\n",
              "\n",
              "[5 rows x 11 columns]"
            ]
          },
          "metadata": {
            "tags": []
          },
          "execution_count": 8
        }
      ]
    },
    {
      "cell_type": "code",
      "metadata": {
        "id": "F3lbLy2cn8qy",
        "outputId": "96ddc9da-765b-4c03-a5af-27af8fe55284",
        "colab": {
          "base_uri": "https://localhost:8080/"
        }
      },
      "source": [
        "# Get dummy variables\n",
        "df = pd.get_dummies(temp, columns=['job', 'education', 'housing', 'loan', 'month', 'marital'])\n",
        "len(df.columns)"
      ],
      "execution_count": 9,
      "outputs": [
        {
          "output_type": "execute_result",
          "data": {
            "text/plain": [
              "39"
            ]
          },
          "metadata": {
            "tags": []
          },
          "execution_count": 9
        }
      ]
    },
    {
      "cell_type": "code",
      "metadata": {
        "id": "jB5F4ALkn8q1",
        "outputId": "31ab1f6a-79a7-4073-a589-a1552006a6ba",
        "colab": {
          "base_uri": "https://localhost:8080/",
          "height": 241
        }
      },
      "source": [
        "df.head()"
      ],
      "execution_count": null,
      "outputs": [
        {
          "output_type": "execute_result",
          "data": {
            "text/html": [
              "<div>\n",
              "<style scoped>\n",
              "    .dataframe tbody tr th:only-of-type {\n",
              "        vertical-align: middle;\n",
              "    }\n",
              "\n",
              "    .dataframe tbody tr th {\n",
              "        vertical-align: top;\n",
              "    }\n",
              "\n",
              "    .dataframe thead th {\n",
              "        text-align: right;\n",
              "    }\n",
              "</style>\n",
              "<table border=\"1\" class=\"dataframe\">\n",
              "  <thead>\n",
              "    <tr style=\"text-align: right;\">\n",
              "      <th></th>\n",
              "      <th>age</th>\n",
              "      <th>balance</th>\n",
              "      <th>duration</th>\n",
              "      <th>campaign</th>\n",
              "      <th>y</th>\n",
              "      <th>job_admin</th>\n",
              "      <th>job_blue-collar</th>\n",
              "      <th>job_entrepreneur</th>\n",
              "      <th>job_housemaid</th>\n",
              "      <th>job_management</th>\n",
              "      <th>job_retired</th>\n",
              "      <th>job_self-employed</th>\n",
              "      <th>job_services</th>\n",
              "      <th>job_student</th>\n",
              "      <th>job_technician</th>\n",
              "      <th>job_unemployed</th>\n",
              "      <th>job_unknown</th>\n",
              "      <th>education_primary</th>\n",
              "      <th>education_secondary</th>\n",
              "      <th>education_tertiary</th>\n",
              "      <th>education_unknown</th>\n",
              "      <th>housing_no</th>\n",
              "      <th>housing_yes</th>\n",
              "      <th>loan_no</th>\n",
              "      <th>loan_yes</th>\n",
              "      <th>month_apr</th>\n",
              "      <th>month_aug</th>\n",
              "      <th>month_dec</th>\n",
              "      <th>month_feb</th>\n",
              "      <th>month_jan</th>\n",
              "      <th>month_jul</th>\n",
              "      <th>month_jun</th>\n",
              "      <th>month_mar</th>\n",
              "      <th>month_may</th>\n",
              "      <th>month_nov</th>\n",
              "      <th>month_oct</th>\n",
              "      <th>marital_divorced</th>\n",
              "      <th>marital_married</th>\n",
              "      <th>marital_single</th>\n",
              "    </tr>\n",
              "  </thead>\n",
              "  <tbody>\n",
              "    <tr>\n",
              "      <th>0</th>\n",
              "      <td>58</td>\n",
              "      <td>2143</td>\n",
              "      <td>261</td>\n",
              "      <td>1</td>\n",
              "      <td>0</td>\n",
              "      <td>0</td>\n",
              "      <td>0</td>\n",
              "      <td>0</td>\n",
              "      <td>0</td>\n",
              "      <td>1</td>\n",
              "      <td>0</td>\n",
              "      <td>0</td>\n",
              "      <td>0</td>\n",
              "      <td>0</td>\n",
              "      <td>0</td>\n",
              "      <td>0</td>\n",
              "      <td>0</td>\n",
              "      <td>0</td>\n",
              "      <td>0</td>\n",
              "      <td>1</td>\n",
              "      <td>0</td>\n",
              "      <td>0</td>\n",
              "      <td>1</td>\n",
              "      <td>1</td>\n",
              "      <td>0</td>\n",
              "      <td>0</td>\n",
              "      <td>0</td>\n",
              "      <td>0</td>\n",
              "      <td>0</td>\n",
              "      <td>0</td>\n",
              "      <td>0</td>\n",
              "      <td>0</td>\n",
              "      <td>0</td>\n",
              "      <td>1</td>\n",
              "      <td>0</td>\n",
              "      <td>0</td>\n",
              "      <td>0</td>\n",
              "      <td>1</td>\n",
              "      <td>0</td>\n",
              "    </tr>\n",
              "    <tr>\n",
              "      <th>1</th>\n",
              "      <td>44</td>\n",
              "      <td>29</td>\n",
              "      <td>151</td>\n",
              "      <td>1</td>\n",
              "      <td>0</td>\n",
              "      <td>0</td>\n",
              "      <td>0</td>\n",
              "      <td>0</td>\n",
              "      <td>0</td>\n",
              "      <td>0</td>\n",
              "      <td>0</td>\n",
              "      <td>0</td>\n",
              "      <td>0</td>\n",
              "      <td>0</td>\n",
              "      <td>1</td>\n",
              "      <td>0</td>\n",
              "      <td>0</td>\n",
              "      <td>0</td>\n",
              "      <td>1</td>\n",
              "      <td>0</td>\n",
              "      <td>0</td>\n",
              "      <td>0</td>\n",
              "      <td>1</td>\n",
              "      <td>1</td>\n",
              "      <td>0</td>\n",
              "      <td>0</td>\n",
              "      <td>0</td>\n",
              "      <td>0</td>\n",
              "      <td>0</td>\n",
              "      <td>0</td>\n",
              "      <td>0</td>\n",
              "      <td>0</td>\n",
              "      <td>0</td>\n",
              "      <td>1</td>\n",
              "      <td>0</td>\n",
              "      <td>0</td>\n",
              "      <td>0</td>\n",
              "      <td>0</td>\n",
              "      <td>1</td>\n",
              "    </tr>\n",
              "    <tr>\n",
              "      <th>2</th>\n",
              "      <td>33</td>\n",
              "      <td>2</td>\n",
              "      <td>76</td>\n",
              "      <td>1</td>\n",
              "      <td>0</td>\n",
              "      <td>0</td>\n",
              "      <td>0</td>\n",
              "      <td>1</td>\n",
              "      <td>0</td>\n",
              "      <td>0</td>\n",
              "      <td>0</td>\n",
              "      <td>0</td>\n",
              "      <td>0</td>\n",
              "      <td>0</td>\n",
              "      <td>0</td>\n",
              "      <td>0</td>\n",
              "      <td>0</td>\n",
              "      <td>0</td>\n",
              "      <td>1</td>\n",
              "      <td>0</td>\n",
              "      <td>0</td>\n",
              "      <td>0</td>\n",
              "      <td>1</td>\n",
              "      <td>0</td>\n",
              "      <td>1</td>\n",
              "      <td>0</td>\n",
              "      <td>0</td>\n",
              "      <td>0</td>\n",
              "      <td>0</td>\n",
              "      <td>0</td>\n",
              "      <td>0</td>\n",
              "      <td>0</td>\n",
              "      <td>0</td>\n",
              "      <td>1</td>\n",
              "      <td>0</td>\n",
              "      <td>0</td>\n",
              "      <td>0</td>\n",
              "      <td>1</td>\n",
              "      <td>0</td>\n",
              "    </tr>\n",
              "    <tr>\n",
              "      <th>3</th>\n",
              "      <td>47</td>\n",
              "      <td>1506</td>\n",
              "      <td>92</td>\n",
              "      <td>1</td>\n",
              "      <td>0</td>\n",
              "      <td>0</td>\n",
              "      <td>1</td>\n",
              "      <td>0</td>\n",
              "      <td>0</td>\n",
              "      <td>0</td>\n",
              "      <td>0</td>\n",
              "      <td>0</td>\n",
              "      <td>0</td>\n",
              "      <td>0</td>\n",
              "      <td>0</td>\n",
              "      <td>0</td>\n",
              "      <td>0</td>\n",
              "      <td>0</td>\n",
              "      <td>0</td>\n",
              "      <td>0</td>\n",
              "      <td>1</td>\n",
              "      <td>0</td>\n",
              "      <td>1</td>\n",
              "      <td>1</td>\n",
              "      <td>0</td>\n",
              "      <td>0</td>\n",
              "      <td>0</td>\n",
              "      <td>0</td>\n",
              "      <td>0</td>\n",
              "      <td>0</td>\n",
              "      <td>0</td>\n",
              "      <td>0</td>\n",
              "      <td>0</td>\n",
              "      <td>1</td>\n",
              "      <td>0</td>\n",
              "      <td>0</td>\n",
              "      <td>0</td>\n",
              "      <td>1</td>\n",
              "      <td>0</td>\n",
              "    </tr>\n",
              "    <tr>\n",
              "      <th>4</th>\n",
              "      <td>33</td>\n",
              "      <td>1</td>\n",
              "      <td>198</td>\n",
              "      <td>1</td>\n",
              "      <td>0</td>\n",
              "      <td>0</td>\n",
              "      <td>0</td>\n",
              "      <td>0</td>\n",
              "      <td>0</td>\n",
              "      <td>0</td>\n",
              "      <td>0</td>\n",
              "      <td>0</td>\n",
              "      <td>0</td>\n",
              "      <td>0</td>\n",
              "      <td>0</td>\n",
              "      <td>0</td>\n",
              "      <td>1</td>\n",
              "      <td>0</td>\n",
              "      <td>0</td>\n",
              "      <td>0</td>\n",
              "      <td>1</td>\n",
              "      <td>1</td>\n",
              "      <td>0</td>\n",
              "      <td>1</td>\n",
              "      <td>0</td>\n",
              "      <td>0</td>\n",
              "      <td>0</td>\n",
              "      <td>0</td>\n",
              "      <td>0</td>\n",
              "      <td>0</td>\n",
              "      <td>0</td>\n",
              "      <td>0</td>\n",
              "      <td>0</td>\n",
              "      <td>1</td>\n",
              "      <td>0</td>\n",
              "      <td>0</td>\n",
              "      <td>0</td>\n",
              "      <td>0</td>\n",
              "      <td>1</td>\n",
              "    </tr>\n",
              "  </tbody>\n",
              "</table>\n",
              "</div>"
            ],
            "text/plain": [
              "   age  balance  duration  ...  marital_divorced marital_married  marital_single\n",
              "0   58     2143       261  ...                 0               1               0\n",
              "1   44       29       151  ...                 0               0               1\n",
              "2   33        2        76  ...                 0               1               0\n",
              "3   47     1506        92  ...                 0               1               0\n",
              "4   33        1       198  ...                 0               0               1\n",
              "\n",
              "[5 rows x 39 columns]"
            ]
          },
          "metadata": {
            "tags": []
          },
          "execution_count": 310
        }
      ]
    },
    {
      "cell_type": "code",
      "metadata": {
        "id": "-FCw0W37n8q3"
      },
      "source": [
        "# Import libraries\n",
        "from sklearn.model_selection import train_test_split\n",
        "from sklearn.model_selection import cross_validate\n",
        "from sklearn.ensemble import RandomForestClassifier"
      ],
      "execution_count": 10,
      "outputs": []
    },
    {
      "cell_type": "code",
      "metadata": {
        "tags": [],
        "id": "-q7sTqCZn8q6",
        "outputId": "3e8cfce0-ba5b-4af6-b45a-fd00293154a7",
        "colab": {
          "base_uri": "https://localhost:8080/"
        }
      },
      "source": [
        "# Create features and label variables\n",
        "label = df.pop('y').astype('int32')\n",
        "features = df\n",
        "\n",
        "print(f\"Shape of features : {features.shape}\")\n",
        "print(f\"Shape of label    : {label.shape}\")"
      ],
      "execution_count": 11,
      "outputs": [
        {
          "output_type": "stream",
          "text": [
            "Shape of features : (40000, 38)\n",
            "Shape of label    : (40000,)\n"
          ],
          "name": "stdout"
        }
      ]
    },
    {
      "cell_type": "code",
      "metadata": {
        "id": "atfWuhvMn8q9"
      },
      "source": [
        "# Make train - test split\n",
        "x_train, x_test, y_train, y_test = train_test_split(features, label, test_size=0.3, random_state=42)"
      ],
      "execution_count": 12,
      "outputs": []
    },
    {
      "cell_type": "code",
      "metadata": {
        "id": "pjor2s3-n8q_",
        "outputId": "4b6d17fc-e0a9-431b-9726-f9b1e12b62df",
        "colab": {
          "base_uri": "https://localhost:8080/"
        }
      },
      "source": [
        "# Create random forest classifier\n",
        "# Avoid from imbalancing effect with class_weight\n",
        "rf = RandomForestClassifier(class_weight='balanced_subsample')\n",
        "\n",
        "# Calculate cross validation results\n",
        "cv_results = cross_validate(rf, x_train, y_train, cv=5, return_train_score=True, return_estimator=True)\n",
        "cv_results.keys()"
      ],
      "execution_count": 13,
      "outputs": [
        {
          "output_type": "execute_result",
          "data": {
            "text/plain": [
              "dict_keys(['fit_time', 'score_time', 'estimator', 'test_score', 'train_score'])"
            ]
          },
          "metadata": {
            "tags": []
          },
          "execution_count": 13
        }
      ]
    },
    {
      "cell_type": "code",
      "metadata": {
        "id": "GsSgbMBhq-wo",
        "outputId": "8b948784-94ed-4bf7-e8de-0370a2424965",
        "colab": {
          "base_uri": "https://localhost:8080/"
        }
      },
      "source": [
        "# Training scores for each fold\n",
        "cv_results['train_score']"
      ],
      "execution_count": 14,
      "outputs": [
        {
          "output_type": "execute_result",
          "data": {
            "text/plain": [
              "array([1.        , 1.        , 1.        , 1.        , 0.99995536])"
            ]
          },
          "metadata": {
            "tags": []
          },
          "execution_count": 14
        }
      ]
    },
    {
      "cell_type": "code",
      "metadata": {
        "id": "RGog70sZmaRS",
        "outputId": "343d3a73-b86d-4f65-ab96-79bcdd71c351",
        "colab": {
          "base_uri": "https://localhost:8080/"
        }
      },
      "source": [
        "# Average of train scores\n",
        "np.mean(cv_results['train_score'])"
      ],
      "execution_count": 15,
      "outputs": [
        {
          "output_type": "execute_result",
          "data": {
            "text/plain": [
              "0.9999910714285715"
            ]
          },
          "metadata": {
            "tags": []
          },
          "execution_count": 15
        }
      ]
    },
    {
      "cell_type": "code",
      "metadata": {
        "id": "eJw2hUhBn8rB",
        "outputId": "36273887-1f69-4bbf-c99a-7c169a22fba1",
        "colab": {
          "base_uri": "https://localhost:8080/"
        }
      },
      "source": [
        "# Testing scores for each fold\n",
        "cv_results['test_score']"
      ],
      "execution_count": 16,
      "outputs": [
        {
          "output_type": "execute_result",
          "data": {
            "text/plain": [
              "array([0.93178571, 0.93232143, 0.93321429, 0.93178571, 0.93125   ])"
            ]
          },
          "metadata": {
            "tags": []
          },
          "execution_count": 16
        }
      ]
    },
    {
      "cell_type": "code",
      "metadata": {
        "id": "6Wu1GHTbmnyY",
        "outputId": "8bd35e28-0339-4c51-aa80-1328c220e9df",
        "colab": {
          "base_uri": "https://localhost:8080/"
        }
      },
      "source": [
        "# Average of test scores\n",
        "np.mean(cv_results['test_score'])"
      ],
      "execution_count": 17,
      "outputs": [
        {
          "output_type": "execute_result",
          "data": {
            "text/plain": [
              "0.9320714285714284"
            ]
          },
          "metadata": {
            "tags": []
          },
          "execution_count": 17
        }
      ]
    },
    {
      "cell_type": "code",
      "metadata": {
        "id": "C9uTqbtcrPqD",
        "outputId": "ece96ca0-8f1b-45ad-a629-9b7e5df93da9",
        "colab": {
          "base_uri": "https://localhost:8080/"
        }
      },
      "source": [
        "# Take estimator \n",
        "rf_model_list = cv_results['estimator']\n",
        "model = rf_model_list[1]\n",
        "\n",
        "# Make prediction on test data and calculate results\n",
        "score = model.score(x_test, y_test)\n",
        "print(f\"Test Score : {score}\")"
      ],
      "execution_count": 18,
      "outputs": [
        {
          "output_type": "stream",
          "text": [
            "Test Score : 0.9295833333333333\n"
          ],
          "name": "stdout"
        }
      ]
    },
    {
      "cell_type": "code",
      "metadata": {
        "id": "NHQlmVFbgHQ7",
        "outputId": "180d879d-f285-4999-a17b-68fa2e97709a",
        "colab": {
          "base_uri": "https://localhost:8080/",
          "height": 1000
        }
      },
      "source": [
        "# Raw importances\n",
        "importance = model.feature_importances_\n",
        "cols = x_train.columns\n",
        "\n",
        "# Create dataframe and sort by importance\n",
        "imp_df = pd.DataFrame({'col_names': cols, 'importance': importance})\n",
        "imp_df.sort_values('importance', ascending=False)"
      ],
      "execution_count": 19,
      "outputs": [
        {
          "output_type": "execute_result",
          "data": {
            "text/html": [
              "<div>\n",
              "<style scoped>\n",
              "    .dataframe tbody tr th:only-of-type {\n",
              "        vertical-align: middle;\n",
              "    }\n",
              "\n",
              "    .dataframe tbody tr th {\n",
              "        vertical-align: top;\n",
              "    }\n",
              "\n",
              "    .dataframe thead th {\n",
              "        text-align: right;\n",
              "    }\n",
              "</style>\n",
              "<table border=\"1\" class=\"dataframe\">\n",
              "  <thead>\n",
              "    <tr style=\"text-align: right;\">\n",
              "      <th></th>\n",
              "      <th>col_names</th>\n",
              "      <th>importance</th>\n",
              "    </tr>\n",
              "  </thead>\n",
              "  <tbody>\n",
              "    <tr>\n",
              "      <th>2</th>\n",
              "      <td>duration</td>\n",
              "      <td>0.502957</td>\n",
              "    </tr>\n",
              "    <tr>\n",
              "      <th>1</th>\n",
              "      <td>balance</td>\n",
              "      <td>0.096109</td>\n",
              "    </tr>\n",
              "    <tr>\n",
              "      <th>0</th>\n",
              "      <td>age</td>\n",
              "      <td>0.082426</td>\n",
              "    </tr>\n",
              "    <tr>\n",
              "      <th>3</th>\n",
              "      <td>campaign</td>\n",
              "      <td>0.041442</td>\n",
              "    </tr>\n",
              "    <tr>\n",
              "      <th>24</th>\n",
              "      <td>month_apr</td>\n",
              "      <td>0.031323</td>\n",
              "    </tr>\n",
              "    <tr>\n",
              "      <th>31</th>\n",
              "      <td>month_mar</td>\n",
              "      <td>0.020880</td>\n",
              "    </tr>\n",
              "    <tr>\n",
              "      <th>27</th>\n",
              "      <td>month_feb</td>\n",
              "      <td>0.013483</td>\n",
              "    </tr>\n",
              "    <tr>\n",
              "      <th>20</th>\n",
              "      <td>housing_no</td>\n",
              "      <td>0.013284</td>\n",
              "    </tr>\n",
              "    <tr>\n",
              "      <th>21</th>\n",
              "      <td>housing_yes</td>\n",
              "      <td>0.012526</td>\n",
              "    </tr>\n",
              "    <tr>\n",
              "      <th>34</th>\n",
              "      <td>month_oct</td>\n",
              "      <td>0.012086</td>\n",
              "    </tr>\n",
              "    <tr>\n",
              "      <th>29</th>\n",
              "      <td>month_jul</td>\n",
              "      <td>0.010466</td>\n",
              "    </tr>\n",
              "    <tr>\n",
              "      <th>32</th>\n",
              "      <td>month_may</td>\n",
              "      <td>0.010369</td>\n",
              "    </tr>\n",
              "    <tr>\n",
              "      <th>13</th>\n",
              "      <td>job_technician</td>\n",
              "      <td>0.009576</td>\n",
              "    </tr>\n",
              "    <tr>\n",
              "      <th>18</th>\n",
              "      <td>education_tertiary</td>\n",
              "      <td>0.009569</td>\n",
              "    </tr>\n",
              "    <tr>\n",
              "      <th>36</th>\n",
              "      <td>marital_married</td>\n",
              "      <td>0.009028</td>\n",
              "    </tr>\n",
              "    <tr>\n",
              "      <th>5</th>\n",
              "      <td>job_blue-collar</td>\n",
              "      <td>0.009024</td>\n",
              "    </tr>\n",
              "    <tr>\n",
              "      <th>25</th>\n",
              "      <td>month_aug</td>\n",
              "      <td>0.008582</td>\n",
              "    </tr>\n",
              "    <tr>\n",
              "      <th>17</th>\n",
              "      <td>education_secondary</td>\n",
              "      <td>0.008393</td>\n",
              "    </tr>\n",
              "    <tr>\n",
              "      <th>8</th>\n",
              "      <td>job_management</td>\n",
              "      <td>0.008243</td>\n",
              "    </tr>\n",
              "    <tr>\n",
              "      <th>4</th>\n",
              "      <td>job_admin</td>\n",
              "      <td>0.008035</td>\n",
              "    </tr>\n",
              "    <tr>\n",
              "      <th>30</th>\n",
              "      <td>month_jun</td>\n",
              "      <td>0.007770</td>\n",
              "    </tr>\n",
              "    <tr>\n",
              "      <th>37</th>\n",
              "      <td>marital_single</td>\n",
              "      <td>0.007621</td>\n",
              "    </tr>\n",
              "    <tr>\n",
              "      <th>33</th>\n",
              "      <td>month_nov</td>\n",
              "      <td>0.006743</td>\n",
              "    </tr>\n",
              "    <tr>\n",
              "      <th>23</th>\n",
              "      <td>loan_yes</td>\n",
              "      <td>0.006535</td>\n",
              "    </tr>\n",
              "    <tr>\n",
              "      <th>16</th>\n",
              "      <td>education_primary</td>\n",
              "      <td>0.006377</td>\n",
              "    </tr>\n",
              "    <tr>\n",
              "      <th>22</th>\n",
              "      <td>loan_no</td>\n",
              "      <td>0.006342</td>\n",
              "    </tr>\n",
              "    <tr>\n",
              "      <th>11</th>\n",
              "      <td>job_services</td>\n",
              "      <td>0.006143</td>\n",
              "    </tr>\n",
              "    <tr>\n",
              "      <th>35</th>\n",
              "      <td>marital_divorced</td>\n",
              "      <td>0.005322</td>\n",
              "    </tr>\n",
              "    <tr>\n",
              "      <th>28</th>\n",
              "      <td>month_jan</td>\n",
              "      <td>0.004339</td>\n",
              "    </tr>\n",
              "    <tr>\n",
              "      <th>19</th>\n",
              "      <td>education_unknown</td>\n",
              "      <td>0.004022</td>\n",
              "    </tr>\n",
              "    <tr>\n",
              "      <th>10</th>\n",
              "      <td>job_self-employed</td>\n",
              "      <td>0.003819</td>\n",
              "    </tr>\n",
              "    <tr>\n",
              "      <th>14</th>\n",
              "      <td>job_unemployed</td>\n",
              "      <td>0.003818</td>\n",
              "    </tr>\n",
              "    <tr>\n",
              "      <th>6</th>\n",
              "      <td>job_entrepreneur</td>\n",
              "      <td>0.003680</td>\n",
              "    </tr>\n",
              "    <tr>\n",
              "      <th>9</th>\n",
              "      <td>job_retired</td>\n",
              "      <td>0.003487</td>\n",
              "    </tr>\n",
              "    <tr>\n",
              "      <th>7</th>\n",
              "      <td>job_housemaid</td>\n",
              "      <td>0.002577</td>\n",
              "    </tr>\n",
              "    <tr>\n",
              "      <th>12</th>\n",
              "      <td>job_student</td>\n",
              "      <td>0.002570</td>\n",
              "    </tr>\n",
              "    <tr>\n",
              "      <th>15</th>\n",
              "      <td>job_unknown</td>\n",
              "      <td>0.001000</td>\n",
              "    </tr>\n",
              "    <tr>\n",
              "      <th>26</th>\n",
              "      <td>month_dec</td>\n",
              "      <td>0.000034</td>\n",
              "    </tr>\n",
              "  </tbody>\n",
              "</table>\n",
              "</div>"
            ],
            "text/plain": [
              "              col_names  importance\n",
              "2              duration    0.502957\n",
              "1               balance    0.096109\n",
              "0                   age    0.082426\n",
              "3              campaign    0.041442\n",
              "24            month_apr    0.031323\n",
              "31            month_mar    0.020880\n",
              "27            month_feb    0.013483\n",
              "20           housing_no    0.013284\n",
              "21          housing_yes    0.012526\n",
              "34            month_oct    0.012086\n",
              "29            month_jul    0.010466\n",
              "32            month_may    0.010369\n",
              "13       job_technician    0.009576\n",
              "18   education_tertiary    0.009569\n",
              "36      marital_married    0.009028\n",
              "5       job_blue-collar    0.009024\n",
              "25            month_aug    0.008582\n",
              "17  education_secondary    0.008393\n",
              "8        job_management    0.008243\n",
              "4             job_admin    0.008035\n",
              "30            month_jun    0.007770\n",
              "37       marital_single    0.007621\n",
              "33            month_nov    0.006743\n",
              "23             loan_yes    0.006535\n",
              "16    education_primary    0.006377\n",
              "22              loan_no    0.006342\n",
              "11         job_services    0.006143\n",
              "35     marital_divorced    0.005322\n",
              "28            month_jan    0.004339\n",
              "19    education_unknown    0.004022\n",
              "10    job_self-employed    0.003819\n",
              "14       job_unemployed    0.003818\n",
              "6      job_entrepreneur    0.003680\n",
              "9           job_retired    0.003487\n",
              "7         job_housemaid    0.002577\n",
              "12          job_student    0.002570\n",
              "15          job_unknown    0.001000\n",
              "26            month_dec    0.000034"
            ]
          },
          "metadata": {
            "tags": []
          },
          "execution_count": 19
        }
      ]
    },
    {
      "cell_type": "code",
      "metadata": {
        "id": "_Iu5h7HZGQ82"
      },
      "source": [
        "# Calculate the total importance of dummy variables\n",
        "# Dummy names\n",
        "names = ['job', 'education', 'housing', 'loan', 'month', 'marital']\n",
        "imps = []\n",
        "\n",
        "for i in names:\n",
        "  # Take importance values which has certain name\n",
        "  name_cells = imp_df[imp_df['col_names'].str.startswith(i)]['importance']\n",
        "  \n",
        "  # Sum importances\n",
        "  total = sum(name_cells)\n",
        "\n",
        "  # Add total importance to imps list\n",
        "  imps.append(total)"
      ],
      "execution_count": null,
      "outputs": []
    },
    {
      "cell_type": "code",
      "metadata": {
        "id": "64PRepcvIhto",
        "outputId": "06738ca7-76f8-4206-c24f-703661324f3e",
        "colab": {
          "base_uri": "https://localhost:8080/",
          "height": 235
        }
      },
      "source": [
        "# Create DataFrame\n",
        "imp_new = pd.DataFrame({'col_names': names, 'importance': imps})\n",
        "imp_new"
      ],
      "execution_count": 23,
      "outputs": [
        {
          "output_type": "execute_result",
          "data": {
            "text/html": [
              "<div>\n",
              "<style scoped>\n",
              "    .dataframe tbody tr th:only-of-type {\n",
              "        vertical-align: middle;\n",
              "    }\n",
              "\n",
              "    .dataframe tbody tr th {\n",
              "        vertical-align: top;\n",
              "    }\n",
              "\n",
              "    .dataframe thead th {\n",
              "        text-align: right;\n",
              "    }\n",
              "</style>\n",
              "<table border=\"1\" class=\"dataframe\">\n",
              "  <thead>\n",
              "    <tr style=\"text-align: right;\">\n",
              "      <th></th>\n",
              "      <th>col_names</th>\n",
              "      <th>importance</th>\n",
              "    </tr>\n",
              "  </thead>\n",
              "  <tbody>\n",
              "    <tr>\n",
              "      <th>0</th>\n",
              "      <td>job</td>\n",
              "      <td>0.061971</td>\n",
              "    </tr>\n",
              "    <tr>\n",
              "      <th>1</th>\n",
              "      <td>education</td>\n",
              "      <td>0.028361</td>\n",
              "    </tr>\n",
              "    <tr>\n",
              "      <th>2</th>\n",
              "      <td>housing</td>\n",
              "      <td>0.025810</td>\n",
              "    </tr>\n",
              "    <tr>\n",
              "      <th>3</th>\n",
              "      <td>loan</td>\n",
              "      <td>0.012878</td>\n",
              "    </tr>\n",
              "    <tr>\n",
              "      <th>4</th>\n",
              "      <td>month</td>\n",
              "      <td>0.126076</td>\n",
              "    </tr>\n",
              "    <tr>\n",
              "      <th>5</th>\n",
              "      <td>marital</td>\n",
              "      <td>0.021970</td>\n",
              "    </tr>\n",
              "  </tbody>\n",
              "</table>\n",
              "</div>"
            ],
            "text/plain": [
              "   col_names  importance\n",
              "0        job    0.061971\n",
              "1  education    0.028361\n",
              "2    housing    0.025810\n",
              "3       loan    0.012878\n",
              "4      month    0.126076\n",
              "5    marital    0.021970"
            ]
          },
          "metadata": {
            "tags": []
          },
          "execution_count": 23
        }
      ]
    },
    {
      "cell_type": "code",
      "metadata": {
        "id": "QdibaO2CI-PV",
        "outputId": "760bcb46-60f0-40ab-80d6-5b7b0d9a1141",
        "colab": {
          "base_uri": "https://localhost:8080/",
          "height": 359
        }
      },
      "source": [
        "# Final importance table\n",
        "res_imp = imp_df.head(4)\n",
        "res_imp = res_imp.append(imp_new, ignore_index=True)\n",
        "res_imp.sort_values('importance', ascending=False)"
      ],
      "execution_count": 24,
      "outputs": [
        {
          "output_type": "execute_result",
          "data": {
            "text/html": [
              "<div>\n",
              "<style scoped>\n",
              "    .dataframe tbody tr th:only-of-type {\n",
              "        vertical-align: middle;\n",
              "    }\n",
              "\n",
              "    .dataframe tbody tr th {\n",
              "        vertical-align: top;\n",
              "    }\n",
              "\n",
              "    .dataframe thead th {\n",
              "        text-align: right;\n",
              "    }\n",
              "</style>\n",
              "<table border=\"1\" class=\"dataframe\">\n",
              "  <thead>\n",
              "    <tr style=\"text-align: right;\">\n",
              "      <th></th>\n",
              "      <th>col_names</th>\n",
              "      <th>importance</th>\n",
              "    </tr>\n",
              "  </thead>\n",
              "  <tbody>\n",
              "    <tr>\n",
              "      <th>2</th>\n",
              "      <td>duration</td>\n",
              "      <td>0.502957</td>\n",
              "    </tr>\n",
              "    <tr>\n",
              "      <th>8</th>\n",
              "      <td>month</td>\n",
              "      <td>0.126076</td>\n",
              "    </tr>\n",
              "    <tr>\n",
              "      <th>1</th>\n",
              "      <td>balance</td>\n",
              "      <td>0.096109</td>\n",
              "    </tr>\n",
              "    <tr>\n",
              "      <th>0</th>\n",
              "      <td>age</td>\n",
              "      <td>0.082426</td>\n",
              "    </tr>\n",
              "    <tr>\n",
              "      <th>4</th>\n",
              "      <td>job</td>\n",
              "      <td>0.061971</td>\n",
              "    </tr>\n",
              "    <tr>\n",
              "      <th>3</th>\n",
              "      <td>campaign</td>\n",
              "      <td>0.041442</td>\n",
              "    </tr>\n",
              "    <tr>\n",
              "      <th>5</th>\n",
              "      <td>education</td>\n",
              "      <td>0.028361</td>\n",
              "    </tr>\n",
              "    <tr>\n",
              "      <th>6</th>\n",
              "      <td>housing</td>\n",
              "      <td>0.025810</td>\n",
              "    </tr>\n",
              "    <tr>\n",
              "      <th>9</th>\n",
              "      <td>marital</td>\n",
              "      <td>0.021970</td>\n",
              "    </tr>\n",
              "    <tr>\n",
              "      <th>7</th>\n",
              "      <td>loan</td>\n",
              "      <td>0.012878</td>\n",
              "    </tr>\n",
              "  </tbody>\n",
              "</table>\n",
              "</div>"
            ],
            "text/plain": [
              "   col_names  importance\n",
              "2   duration    0.502957\n",
              "8      month    0.126076\n",
              "1    balance    0.096109\n",
              "0        age    0.082426\n",
              "4        job    0.061971\n",
              "3   campaign    0.041442\n",
              "5  education    0.028361\n",
              "6    housing    0.025810\n",
              "9    marital    0.021970\n",
              "7       loan    0.012878"
            ]
          },
          "metadata": {
            "tags": []
          },
          "execution_count": 24
        }
      ]
    },
    {
      "cell_type": "markdown",
      "metadata": {
        "id": "d6XDvUrPczlB"
      },
      "source": [
        "# **Conclusion**\n",
        "\n",
        "Algorithm : Random Forest\n",
        "\n",
        "Used columns : age, balance, duration, campaign, job, education, housing, loan, month, marital\n",
        "\n",
        "Average Test Score (Cross Val.) = 0.932071\n",
        "\n",
        "Test Score = 0.929583\n",
        "\n",
        "\n",
        "---\n",
        "\n",
        "\n",
        "##*Importances (Top 5)* \n",
        "\n",
        "1. duration\n",
        "2. month\n",
        "3. balance\n",
        "4. age\n",
        "5. job\n",
        "\n",
        "\n",
        "\n",
        "---\n",
        "\n",
        "\n",
        "\n",
        "##*Potential Customer Profile*\n",
        "\n",
        "From frequency and average\n",
        "\n",
        "- Age : 39.84495856353591\n",
        "- Job : management\n",
        "- Marital : married\n",
        "- Education : secondary\n",
        "- Balance : 1588.495856353591\n",
        "- Housing : yes\n",
        "- Loan : no"
      ]
    }
  ]
}